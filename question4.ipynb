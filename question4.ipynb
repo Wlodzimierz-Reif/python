{
 "cells": [
  {
   "cell_type": "code",
   "execution_count": 12,
   "metadata": {},
   "outputs": [
    {
     "name": "stdout",
     "output_type": "stream",
     "text": [
      "Function to check if a number is divisible by 7 and is between 100 and 500\n",
      "Number is not in range\n"
     ]
    }
   ],
   "source": [
    "def my_funct():\n",
    "    '''Function to check if a number is divisible by 7 and is between 100 and 500'''\n",
    "    user_input = input('Enter a number between 100 and 500: ') # get user input\n",
    "    try: # try/catch block to handle invalid input\n",
    "        user_int_input = int(user_input) # convert to integer\n",
    "        if user_int_input < 100 or user_int_input > 500: # check if number is not in range\n",
    "            print('Number is not in range')\n",
    "        else: \n",
    "            print('Number is in range')\n",
    "            # check if number is divisible by 7 by using modulo operator\n",
    "            print(f'Number is {\"divisible\" if user_int_input % 7 == 0 else \"not divisible\"} by 7')\n",
    "    except: # handle non-number input\n",
    "        print('Invalid input. Enter a number between 100 and 500')\n",
    "        \n",
    "print(my_funct.__doc__)\n",
    "my_funct()"
   ]
  }
 ],
 "metadata": {
  "kernelspec": {
   "display_name": ".venv",
   "language": "python",
   "name": "python3"
  },
  "language_info": {
   "codemirror_mode": {
    "name": "ipython",
    "version": 3
   },
   "file_extension": ".py",
   "mimetype": "text/x-python",
   "name": "python",
   "nbconvert_exporter": "python",
   "pygments_lexer": "ipython3",
   "version": "3.13.1"
  }
 },
 "nbformat": 4,
 "nbformat_minor": 2
}
