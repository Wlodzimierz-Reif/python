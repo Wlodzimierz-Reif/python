{
 "cells": [
  {
   "cell_type": "code",
   "execution_count": null,
   "metadata": {},
   "outputs": [],
   "source": [
    "item_costs = {\"apple\": 2.5, \"orange\": 3.0, \"tomato\": 1.5, \"potato\": 1.0}\n",
    "\n",
    "def calculate_total():\n",
    "    fruit_and_veg = [{'name': name} for name in item_costs.keys()] # create a list of dicts with corresponding names based on given values\n",
    "\n",
    "    for item in fruit_and_veg: # loop through the dictionary\n",
    "        while True: # try/catch block to handle invalid input\n",
    "            try:\n",
    "                amount = int(input('Enter the amount of ' + item['name'] + 's')) # ask for amount of each item\n",
    "                if amount < 0: # check if input is correct and provide feedback to the user\n",
    "                    print(\"Invalid input. Please enter a positive integer.\")\n",
    "                else: # assign the input value to the dictionary\n",
    "                    item['amount'] = amount\n",
    "                    break\n",
    "            except: # catch non-integer input\n",
    "                print(\"Invalid input. Please enter an integer.\")\n",
    "\n",
    "    total = 0 # initialise total variable\n",
    "    for item in fruit_and_veg: # loop through the dictionary and multiply each element amount by corresponding cost from item_costs dictionary\n",
    "        total += item_costs[item['name']] * item['amount']\n",
    "\n",
    "    print(\"Total cost: \", total)\n",
    "    \n",
    "calculate_total() # call the function"
   ]
  },
  {
   "cell_type": "code",
   "execution_count": 31,
   "metadata": {},
   "outputs": [
    {
     "name": "stdout",
     "output_type": "stream",
     "text": [
      "{'apple': 2.5}\n"
     ]
    }
   ],
   "source": [
    "item_costs = {\"apple\": 2.5, \"orange\": 3.0, \"tomato\": 1.5, \"potato\": 1.0} # I know I can use it as global variable, but I want the code to be self-contained and more readable\n",
    "\n",
    "def funct(min_price, max_price, prices_obj): # function definition\n",
    "    '''return only elements from prices_obj dictionary that have values between min_price and max_price'''\n",
    "    # for each key-value touple in prices_obj, insert it to a new dictionary (obtained by usimg .items() method) if the value is between given min-max values\n",
    "    return {item: cost for item, cost in prices_obj.items() if cost >= min_price and cost <= max_price}\n",
    "\n",
    "print(funct(2, 2.5, item_costs)) # call the function with given params"
   ]
  }
 ],
 "metadata": {
  "kernelspec": {
   "display_name": ".venv",
   "language": "python",
   "name": "python3"
  },
  "language_info": {
   "codemirror_mode": {
    "name": "ipython",
    "version": 3
   },
   "file_extension": ".py",
   "mimetype": "text/x-python",
   "name": "python",
   "nbconvert_exporter": "python",
   "pygments_lexer": "ipython3",
   "version": "3.13.1"
  }
 },
 "nbformat": 4,
 "nbformat_minor": 2
}
