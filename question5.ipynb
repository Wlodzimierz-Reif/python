{
 "cells": [
  {
   "cell_type": "code",
   "execution_count": null,
   "metadata": {},
   "outputs": [
    {
     "name": "stdout",
     "output_type": "stream",
     "text": [
      "404 is not a prime number\n"
     ]
    }
   ],
   "source": [
    "import math\n",
    "\n",
    "def get_is_prime_number(number):\n",
    "    '''check if a number is prime'''\n",
    "    is_prime = True # set up a flag\n",
    "    # check if number is divisible by any number between 2 and the square root of the number + 1(to include the sq root itself after converting to an int)\n",
    "    # if so, it's not a prime number\n",
    "    for i in range(2, int(math.sqrt(number)) + 1):\n",
    "        if number % i == 0: \n",
    "            is_prime = False\n",
    "            break\n",
    "    print(f\"{number} is {'' if is_prime else 'not '}a prime number\") # template string\n",
    "\n",
    "def get_user_input():\n",
    "    '''get and validate user input'''\n",
    "    while True: # loop until the user enters a valud input\n",
    "        try: # try/catch block\n",
    "            user_input = input('Please enter a number between 100 and 500')\n",
    "            user_input_int = int(user_input) # converty to int\n",
    "            if(user_input_int < 100 or user_input_int > 500): # check if input is in range\n",
    "                print(\"Number out of the indicated range. Please try again.\")\n",
    "                continue # keep looping\n",
    "            return user_input_int # return validated input\n",
    "        except: # handle non numerical input\n",
    "            print(\"Input is not a number. Please try again.\")\n",
    "            continue\n",
    "    \n",
    "\n",
    "get_is_prime_number(get_user_input())\n"
   ]
  }
 ],
 "metadata": {
  "kernelspec": {
   "display_name": ".venv",
   "language": "python",
   "name": "python3"
  },
  "language_info": {
   "codemirror_mode": {
    "name": "ipython",
    "version": 3
   },
   "file_extension": ".py",
   "mimetype": "text/x-python",
   "name": "python",
   "nbconvert_exporter": "python",
   "pygments_lexer": "ipython3",
   "version": "3.13.1"
  }
 },
 "nbformat": 4,
 "nbformat_minor": 2
}
