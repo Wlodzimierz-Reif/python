{
 "cells": [
  {
   "cell_type": "code",
   "execution_count": 10,
   "metadata": {},
   "outputs": [
    {
     "name": "stdout",
     "output_type": "stream",
     "text": [
      "this function counts the number of uppercase letters in a string\n",
      "5\n"
     ]
    }
   ],
   "source": [
    "def foo(s):\n",
    "    '''this function counts the number of uppercase letters in a string'''\n",
    "    # initialise count as int 0\n",
    "    count = 0 \n",
    "    for c in s: # iterate over each character in the given string\n",
    "        if c.isupper(): # if the currently iterated character is uppercase\n",
    "            count += 1 # increment the count by 1\n",
    "    print(count) # print the count of uppercase letter after all loop iterations\n",
    "    \n",
    "print(foo.__doc__) # print the docstring for the function\n",
    "foo('I used Uppercase Five Times in This sentence') # function call with string argument"
   ]
  },
  {
   "cell_type": "code",
   "execution_count": 11,
   "metadata": {},
   "outputs": [
    {
     "name": "stdout",
     "output_type": "stream",
     "text": [
      "this function is a refactor of the foo function using list comprehension\n",
      "7\n"
     ]
    }
   ],
   "source": [
    "def fooComprehension(str):\n",
    "    '''this function is a refactor of the foo function using list comprehension'''\n",
    "    count = len([char for char in str if char.isupper()]) # list comprehension to count uppercase letters\n",
    "    # for each character in the given string, add it to the list, if it is uppercase\n",
    "    # then get the length of the list containing all uppercase characters\n",
    "    print(count) # print the count of uppercase letter after all loop iterations\n",
    "    \n",
    "print(fooComprehension.__doc__) # print the docstring for the function\n",
    "fooComprehension('I Used Uppercase Seven Times in This Sentence') # function call with string argument"
   ]
  }
 ],
 "metadata": {
  "kernelspec": {
   "display_name": ".venv",
   "language": "python",
   "name": "python3"
  },
  "language_info": {
   "codemirror_mode": {
    "name": "ipython",
    "version": 3
   },
   "file_extension": ".py",
   "mimetype": "text/x-python",
   "name": "python",
   "nbconvert_exporter": "python",
   "pygments_lexer": "ipython3",
   "version": "3.13.1"
  }
 },
 "nbformat": 4,
 "nbformat_minor": 2
}
