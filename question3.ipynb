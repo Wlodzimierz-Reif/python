{
 "cells": [
  {
   "cell_type": "code",
   "execution_count": 16,
   "metadata": {},
   "outputs": [
    {
     "name": "stdout",
     "output_type": "stream",
     "text": [
      "Lorem ipsum dolor sit amet, consectetur adipiscing elit, sed do eiusmod tempor incididunt ut labore et dolore magna aliqua.\n",
      "Ut enim ad minim veniam, quis nostrud exercitation ullamco laboris nisi ut aliquip ex ea commodo consequat.\n",
      "Ut enim ad minim veniam, quis nostrud exercitation ullamco laboris nisi ut aliquip ex ea commodo consequat.\n",
      "Duis aute irure dolor in reprehenderit in voluptate velit esse cillum dolore eu fugiat nulla pariatur.\n",
      "Excepteur sint occaecat cupidatat non proident, sunt in culpa qui officia deserunt mollit anim id est laborum..\n",
      "\n",
      "\n",
      "Lorem ipsum dolor sit amet, consectetur adipiscing elit, sed do eiusmod tempor incididunt ut labore et dolore magna aliqua.\n",
      "Ut enim ad minim veniam, quis nostrud exercitation ullamco laboris nisi ut aliquip ex ea commodo consequat.\n",
      "Duis aute irure dolor in reprehenderit in voluptate velit esse cillum dolore eu fugiat nulla pariatur.\n",
      "Excepteur sint occaecat cupidatat non proident, sunt in culpa qui officia deserunt mollit anim id est laborum..\n"
     ]
    }
   ],
   "source": [
    "file = open('paragraph.txt', 'r').read()\n",
    "\n",
    "splitted = [sentence + '.' for sentence in file.split('. ') if sentence]\n",
    "for line in splitted:\n",
    "    print(line)\n",
    "\n",
    "print('\\n')\n",
    "# purged = list(set(splitted)) # this will remove duplicates but will not keep the order\n",
    "\n",
    "# seen = []\n",
    "# purged = []\n",
    "# for sentence in splitted:\n",
    "#     if sentence not in seen:\n",
    "#         purged.append(sentence)\n",
    "#         seen.append(sentence)\n",
    "\n",
    "# for line in purged:\n",
    "#     print(line)\n",
    "\n",
    "split_copy = splitted.copy()\n",
    "purged = []\n",
    "while len(split_copy) > 0:\n",
    "    if split_copy[0] not in purged:\n",
    "        purged.append(split_copy[0])\n",
    "    split_copy.pop(0)\n",
    "\n",
    "# for line in purged:\n",
    "#     print(line)\n",
    "# print(purged)\n",
    "\n",
    "def count_avg_words(list_of_sentences):\n",
    "    all_words = 0\n",
    "    for sentence in list_of_sentences:\n",
    "        words = sentence.split(' ')\n",
    "        all_words += len(words)\n",
    "    return all_words / len(list_of_sentences)\n",
    "    "
   ]
  }
 ],
 "metadata": {
  "kernelspec": {
   "display_name": ".venv",
   "language": "python",
   "name": "python3"
  },
  "language_info": {
   "codemirror_mode": {
    "name": "ipython",
    "version": 3
   },
   "file_extension": ".py",
   "mimetype": "text/x-python",
   "name": "python",
   "nbconvert_exporter": "python",
   "pygments_lexer": "ipython3",
   "version": "3.13.1"
  }
 },
 "nbformat": 4,
 "nbformat_minor": 2
}
